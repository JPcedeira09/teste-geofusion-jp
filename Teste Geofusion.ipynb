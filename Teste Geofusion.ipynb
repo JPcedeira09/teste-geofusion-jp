{
 "cells": [
  {
   "cell_type": "markdown",
   "metadata": {},
   "source": [
    "# Desafio Geofusion"
   ]
  },
  {
   "cell_type": "markdown",
   "metadata": {},
   "source": [
    "Carregando a libs necessárias"
   ]
  },
  {
   "cell_type": "code",
   "execution_count": 66,
   "metadata": {},
   "outputs": [],
   "source": [
    "import pandas as pd\n",
    "import numpy as np\n",
    "import matplotlib.pyplot as plt   #Data visualisation libraries \n",
    "import seaborn as sns\n",
    "from sklearn.linear_model import LinearRegression\n",
    "from sklearn.model_selection import train_test_split\n",
    "\n",
    "%matplotlib inline"
   ]
  },
  {
   "cell_type": "markdown",
   "metadata": {},
   "source": [
    "Carregando os dados da base Potencial disponibilizada em CSV.\n",
    "Realizando tratamento da coluna Faturamento que será a variavel target do modelo de regressão linear.\n",
    "Visualizando as primeiras linhas do arquivo, para ter uma previa dos dados que vamos lidar."
   ]
  },
  {
   "cell_type": "code",
   "execution_count": 46,
   "metadata": {},
   "outputs": [
    {
     "data": {
      "text/html": [
       "<div>\n",
       "<style scoped>\n",
       "    .dataframe tbody tr th:only-of-type {\n",
       "        vertical-align: middle;\n",
       "    }\n",
       "\n",
       "    .dataframe tbody tr th {\n",
       "        vertical-align: top;\n",
       "    }\n",
       "\n",
       "    .dataframe thead th {\n",
       "        text-align: right;\n",
       "    }\n",
       "</style>\n",
       "<table border=\"1\" class=\"dataframe\">\n",
       "  <thead>\n",
       "    <tr style=\"text-align: right;\">\n",
       "      <th></th>\n",
       "      <th>CODIGO</th>\n",
       "      <th>QTD_AGENCIAS</th>\n",
       "      <th>EMPRESAS</th>\n",
       "      <th>EMPREGADOS</th>\n",
       "      <th>RENDA</th>\n",
       "      <th>FATURAMENTO</th>\n",
       "    </tr>\n",
       "  </thead>\n",
       "  <tbody>\n",
       "    <tr>\n",
       "      <th>0</th>\n",
       "      <td>355620110</td>\n",
       "      <td>2</td>\n",
       "      <td>73</td>\n",
       "      <td>772</td>\n",
       "      <td>D</td>\n",
       "      <td>28467.0</td>\n",
       "    </tr>\n",
       "    <tr>\n",
       "      <th>1</th>\n",
       "      <td>3519071024</td>\n",
       "      <td>3</td>\n",
       "      <td>429</td>\n",
       "      <td>1004</td>\n",
       "      <td>E</td>\n",
       "      <td>2707.2</td>\n",
       "    </tr>\n",
       "    <tr>\n",
       "      <th>2</th>\n",
       "      <td>3536505002</td>\n",
       "      <td>1</td>\n",
       "      <td>176</td>\n",
       "      <td>1663</td>\n",
       "      <td>C</td>\n",
       "      <td>28580.0</td>\n",
       "    </tr>\n",
       "    <tr>\n",
       "      <th>3</th>\n",
       "      <td>3519071026</td>\n",
       "      <td>0</td>\n",
       "      <td>403</td>\n",
       "      <td>2902</td>\n",
       "      <td>C</td>\n",
       "      <td>103710.0</td>\n",
       "    </tr>\n",
       "    <tr>\n",
       "      <th>4</th>\n",
       "      <td>3536505001</td>\n",
       "      <td>4</td>\n",
       "      <td>155</td>\n",
       "      <td>478</td>\n",
       "      <td>E</td>\n",
       "      <td>865.0</td>\n",
       "    </tr>\n",
       "  </tbody>\n",
       "</table>\n",
       "</div>"
      ],
      "text/plain": [
       "       CODIGO  QTD_AGENCIAS  EMPRESAS  EMPREGADOS RENDA  FATURAMENTO\n",
       "0   355620110             2        73         772     D      28467.0\n",
       "1  3519071024             3       429        1004     E       2707.2\n",
       "2  3536505002             1       176        1663     C      28580.0\n",
       "3  3519071026             0       403        2902     C     103710.0\n",
       "4  3536505001             4       155         478     E        865.0"
      ]
     },
     "execution_count": 46,
     "metadata": {},
     "output_type": "execute_result"
    }
   ],
   "source": [
    "dataset = pd.read_csv('/Users/joaopaulo/Downloads/desafio/potencial.csv')\n",
    "\n",
    "dataset[\"FATURAMENTO\"] = dataset[\"FATURAMENTO\"].str.replace(',','')\n",
    "dataset[\"FATURAMENTO\"] = pd.to_numeric(dataset[\"FATURAMENTO\"])\n",
    "dataset[\"RENDA\"] = dataset[\"RENDA\"].astype(np.str)\n",
    "\n",
    "dataset.head()"
   ]
  },
  {
   "cell_type": "markdown",
   "metadata": {},
   "source": [
    "Descrevendo as colunas, fazendo uma breve analise dos dados com funções que são utilizadas normamente para analise da dados."
   ]
  },
  {
   "cell_type": "code",
   "execution_count": 35,
   "metadata": {},
   "outputs": [
    {
     "data": {
      "text/html": [
       "<div>\n",
       "<style scoped>\n",
       "    .dataframe tbody tr th:only-of-type {\n",
       "        vertical-align: middle;\n",
       "    }\n",
       "\n",
       "    .dataframe tbody tr th {\n",
       "        vertical-align: top;\n",
       "    }\n",
       "\n",
       "    .dataframe thead th {\n",
       "        text-align: right;\n",
       "    }\n",
       "</style>\n",
       "<table border=\"1\" class=\"dataframe\">\n",
       "  <thead>\n",
       "    <tr style=\"text-align: right;\">\n",
       "      <th></th>\n",
       "      <th>CODIGO</th>\n",
       "      <th>QTD_AGENCIAS</th>\n",
       "      <th>EMPRESAS</th>\n",
       "      <th>EMPREGADOS</th>\n",
       "      <th>FATURAMENTO</th>\n",
       "    </tr>\n",
       "  </thead>\n",
       "  <tbody>\n",
       "    <tr>\n",
       "      <th>count</th>\n",
       "      <td>1.330000e+02</td>\n",
       "      <td>133.000000</td>\n",
       "      <td>133.000000</td>\n",
       "      <td>133.000000</td>\n",
       "      <td>1.330000e+02</td>\n",
       "    </tr>\n",
       "    <tr>\n",
       "      <th>mean</th>\n",
       "      <td>2.477734e+09</td>\n",
       "      <td>2.075188</td>\n",
       "      <td>290.571429</td>\n",
       "      <td>1801.646617</td>\n",
       "      <td>4.682925e+05</td>\n",
       "    </tr>\n",
       "    <tr>\n",
       "      <th>std</th>\n",
       "      <td>1.586817e+09</td>\n",
       "      <td>1.449263</td>\n",
       "      <td>133.412341</td>\n",
       "      <td>1196.012644</td>\n",
       "      <td>1.389014e+06</td>\n",
       "    </tr>\n",
       "    <tr>\n",
       "      <th>min</th>\n",
       "      <td>3.519071e+06</td>\n",
       "      <td>0.000000</td>\n",
       "      <td>52.000000</td>\n",
       "      <td>76.000000</td>\n",
       "      <td>1.576000e+02</td>\n",
       "    </tr>\n",
       "    <tr>\n",
       "      <th>25%</th>\n",
       "      <td>3.556201e+08</td>\n",
       "      <td>1.000000</td>\n",
       "      <td>178.000000</td>\n",
       "      <td>775.000000</td>\n",
       "      <td>3.047200e+04</td>\n",
       "    </tr>\n",
       "    <tr>\n",
       "      <th>50%</th>\n",
       "      <td>3.519071e+09</td>\n",
       "      <td>2.000000</td>\n",
       "      <td>291.000000</td>\n",
       "      <td>1545.000000</td>\n",
       "      <td>8.889100e+04</td>\n",
       "    </tr>\n",
       "    <tr>\n",
       "      <th>75%</th>\n",
       "      <td>3.536505e+09</td>\n",
       "      <td>3.000000</td>\n",
       "      <td>398.000000</td>\n",
       "      <td>2526.000000</td>\n",
       "      <td>3.150500e+05</td>\n",
       "    </tr>\n",
       "    <tr>\n",
       "      <th>max</th>\n",
       "      <td>3.552403e+09</td>\n",
       "      <td>4.000000</td>\n",
       "      <td>548.000000</td>\n",
       "      <td>5730.000000</td>\n",
       "      <td>1.330320e+07</td>\n",
       "    </tr>\n",
       "  </tbody>\n",
       "</table>\n",
       "</div>"
      ],
      "text/plain": [
       "             CODIGO  QTD_AGENCIAS    EMPRESAS   EMPREGADOS   FATURAMENTO\n",
       "count  1.330000e+02    133.000000  133.000000   133.000000  1.330000e+02\n",
       "mean   2.477734e+09      2.075188  290.571429  1801.646617  4.682925e+05\n",
       "std    1.586817e+09      1.449263  133.412341  1196.012644  1.389014e+06\n",
       "min    3.519071e+06      0.000000   52.000000    76.000000  1.576000e+02\n",
       "25%    3.556201e+08      1.000000  178.000000   775.000000  3.047200e+04\n",
       "50%    3.519071e+09      2.000000  291.000000  1545.000000  8.889100e+04\n",
       "75%    3.536505e+09      3.000000  398.000000  2526.000000  3.150500e+05\n",
       "max    3.552403e+09      4.000000  548.000000  5730.000000  1.330320e+07"
      ]
     },
     "execution_count": 35,
     "metadata": {},
     "output_type": "execute_result"
    }
   ],
   "source": [
    "dataset.describe()"
   ]
  },
  {
   "cell_type": "markdown",
   "metadata": {},
   "source": [
    "Plotando a correlação para ficar mais simples de analizar a relação de variaveis"
   ]
  },
  {
   "cell_type": "code",
   "execution_count": 12,
   "metadata": {},
   "outputs": [
    {
     "data": {
      "text/plain": [
       "<seaborn.axisgrid.PairGrid at 0x1a211fd1d0>"
      ]
     },
     "execution_count": 12,
     "metadata": {},
     "output_type": "execute_result"
    },
    {
     "data": {
      "image/png": "[encoded data removed]",
      "text/plain": [
       "<Figure size 720x720 with 20 Axes>"
      ]
     },
     "metadata": {
      "needs_background": "light"
     },
     "output_type": "display_data"
    }
   ],
   "source": [
    "sns.pairplot(dataset)"
   ]
  },
  {
   "cell_type": "markdown",
   "metadata": {},
   "source": [
    "Visualizando o grafico de distribuição dos dados da nossa variavel target FATURAMENTO"
   ]
  },
  {
   "cell_type": "code",
   "execution_count": 38,
   "metadata": {},
   "outputs": [
    {
     "data": {
      "text/plain": [
       "<matplotlib.axes._subplots.AxesSubplot at 0x1a223169e8>"
      ]
     },
     "execution_count": 38,
     "metadata": {},
     "output_type": "execute_result"
    },
    {
     "data": {
      "image/png": "[encoded data removed]",
      "text/plain": [
       "<Figure size 432x288 with 1 Axes>"
      ]
     },
     "metadata": {
      "needs_background": "light"
     },
     "output_type": "display_data"
    }
   ],
   "source": [
    "sns.distplot(dataset['FATURAMENTO'])"
   ]
  },
  {
   "cell_type": "markdown",
   "metadata": {},
   "source": [
    "#Fazendo analise de correlação entre as variaveis do dataset, para escolher as variaveis para o modelo."
   ]
  },
  {
   "cell_type": "code",
   "execution_count": 67,
   "metadata": {},
   "outputs": [
    {
     "data": {
      "text/html": [
       "<div>\n",
       "<style scoped>\n",
       "    .dataframe tbody tr th:only-of-type {\n",
       "        vertical-align: middle;\n",
       "    }\n",
       "\n",
       "    .dataframe tbody tr th {\n",
       "        vertical-align: top;\n",
       "    }\n",
       "\n",
       "    .dataframe thead th {\n",
       "        text-align: right;\n",
       "    }\n",
       "</style>\n",
       "<table border=\"1\" class=\"dataframe\">\n",
       "  <thead>\n",
       "    <tr style=\"text-align: right;\">\n",
       "      <th></th>\n",
       "      <th>CODIGO</th>\n",
       "      <th>QTD_AGENCIAS</th>\n",
       "      <th>EMPRESAS</th>\n",
       "      <th>EMPREGADOS</th>\n",
       "      <th>FATURAMENTO</th>\n",
       "    </tr>\n",
       "  </thead>\n",
       "  <tbody>\n",
       "    <tr>\n",
       "      <th>CODIGO</th>\n",
       "      <td>1.000000</td>\n",
       "      <td>0.151143</td>\n",
       "      <td>0.070400</td>\n",
       "      <td>0.003618</td>\n",
       "      <td>-0.301454</td>\n",
       "    </tr>\n",
       "    <tr>\n",
       "      <th>QTD_AGENCIAS</th>\n",
       "      <td>0.151143</td>\n",
       "      <td>1.000000</td>\n",
       "      <td>0.108113</td>\n",
       "      <td>0.182161</td>\n",
       "      <td>0.066297</td>\n",
       "    </tr>\n",
       "    <tr>\n",
       "      <th>EMPRESAS</th>\n",
       "      <td>0.070400</td>\n",
       "      <td>0.108113</td>\n",
       "      <td>1.000000</td>\n",
       "      <td>0.643888</td>\n",
       "      <td>0.166910</td>\n",
       "    </tr>\n",
       "    <tr>\n",
       "      <th>EMPREGADOS</th>\n",
       "      <td>0.003618</td>\n",
       "      <td>0.182161</td>\n",
       "      <td>0.643888</td>\n",
       "      <td>1.000000</td>\n",
       "      <td>0.251317</td>\n",
       "    </tr>\n",
       "    <tr>\n",
       "      <th>FATURAMENTO</th>\n",
       "      <td>-0.301454</td>\n",
       "      <td>0.066297</td>\n",
       "      <td>0.166910</td>\n",
       "      <td>0.251317</td>\n",
       "      <td>1.000000</td>\n",
       "    </tr>\n",
       "  </tbody>\n",
       "</table>\n",
       "</div>"
      ],
      "text/plain": [
       "                CODIGO  QTD_AGENCIAS  EMPRESAS  EMPREGADOS  FATURAMENTO\n",
       "CODIGO        1.000000      0.151143  0.070400    0.003618    -0.301454\n",
       "QTD_AGENCIAS  0.151143      1.000000  0.108113    0.182161     0.066297\n",
       "EMPRESAS      0.070400      0.108113  1.000000    0.643888     0.166910\n",
       "EMPREGADOS    0.003618      0.182161  0.643888    1.000000     0.251317\n",
       "FATURAMENTO  -0.301454      0.066297  0.166910    0.251317     1.000000"
      ]
     },
     "execution_count": 67,
     "metadata": {},
     "output_type": "execute_result"
    }
   ],
   "source": [
    "dataset.corr()"
   ]
  },
  {
   "cell_type": "markdown",
   "metadata": {},
   "source": [
    "Pegando o nome das colunas para colocar no dataset."
   ]
  },
  {
   "cell_type": "code",
   "execution_count": 37,
   "metadata": {},
   "outputs": [
    {
     "data": {
      "text/plain": [
       "Index(['CODIGO', 'QTD_AGENCIAS', 'EMPRESAS', 'EMPREGADOS', 'RENDA',\n",
       "       'FATURAMENTO'],\n",
       "      dtype='object')"
      ]
     },
     "execution_count": 37,
     "metadata": {},
     "output_type": "execute_result"
    }
   ],
   "source": [
    "dataset.columns"
   ]
  },
  {
   "cell_type": "markdown",
   "metadata": {},
   "source": [
    "Separando as colunas para treinar o modelo e a coluna target que será prevista no modelo\n",
    "\n",
    "Criando a base de treino e teste, separando-a em 25% dela para teste e 75% para treino de forma aleatoria."
   ]
  },
  {
   "cell_type": "code",
   "execution_count": 68,
   "metadata": {},
   "outputs": [],
   "source": [
    "colunasTeste = dataset[['CODIGO', 'QTD_AGENCIAS', 'EMPRESAS', 'EMPREGADOS']]\n",
    "variavel_target = dataset['FATURAMENTO']\n",
    "\n",
    "X_train, X_test, y_train, y_test = train_test_split(colunasTeste, variavel_target, test_size=0.25, random_state=55)"
   ]
  },
  {
   "cell_type": "markdown",
   "metadata": {},
   "source": [
    "Inicializando a variavel que irá treinar o modelo, usando a base de treino"
   ]
  },
  {
   "cell_type": "code",
   "execution_count": 70,
   "metadata": {},
   "outputs": [
    {
     "data": {
      "text/plain": [
       "LinearRegression(copy_X=True, fit_intercept=True, n_jobs=None,\n",
       "         normalize=False)"
      ]
     },
     "execution_count": 70,
     "metadata": {},
     "output_type": "execute_result"
    }
   ],
   "source": [
    "modeloLinear = LinearRegression()\n",
    "modeloLinear.fit(X_train,y_train)"
   ]
  },
  {
   "cell_type": "code",
   "execution_count": 71,
   "metadata": {},
   "outputs": [],
   "source": [
    "predicao = modeloLinear.predict(X_test)"
   ]
  },
  {
   "cell_type": "code",
   "execution_count": 65,
   "metadata": {},
   "outputs": [
    {
     "data": {
      "text/plain": [
       "<matplotlib.collections.PathCollection at 0x1a227949e8>"
      ]
     },
     "execution_count": 65,
     "metadata": {},
     "output_type": "execute_result"
    },
    {
     "data": {
      "image/png": "[encoded data removed]",
      "text/plain": [
       "<Figure size 432x288 with 1 Axes>"
      ]
     },
     "metadata": {
      "needs_background": "light"
     },
     "output_type": "display_data"
    }
   ],
   "source": [
    "plt.scatter(y_test,predicao)"
   ]
  },
  {
   "cell_type": "code",
   "execution_count": 75,
   "metadata": {},
   "outputs": [
    {
     "name": "stdout",
     "output_type": "stream",
     "text": [
      "[ -28037.05565755  481264.87704134 1092931.13308908 -189038.66475796\n",
      "  203686.78776193  671362.33556697 1139739.80575516 1144714.67863646\n",
      " 1344689.01234045 -304106.75891657  501389.72672728 1761607.72760388\n",
      "   98042.57815562  869449.41537936  299416.64523437 -342450.61957149\n",
      " -222686.86425714  827810.10170036  538478.30222826  449805.86036675\n",
      " -408289.36638393   67435.87521787  569831.04957974  470629.83759023\n",
      "  346886.49213387  221219.01493063 -129342.55947337  531719.00419002\n",
      "  197573.94315871  -46257.78488625   53329.45856283   27859.0893194\n",
      " 1561886.51518688  260337.45805718]\n"
     ]
    }
   ],
   "source": [
    "print(predicao)"
   ]
  },
  {
   "cell_type": "code",
   "execution_count": null,
   "metadata": {},
   "outputs": [],
   "source": []
  }
 ],
 "metadata": {
  "kernelspec": {
   "display_name": "Python 3",
   "language": "python",
   "name": "python3"
  },
  "language_info": {
   "codemirror_mode": {
    "name": "ipython",
    "version": 3
   },
   "file_extension": ".py",
   "mimetype": "text/x-python",
   "name": "python",
   "nbconvert_exporter": "python",
   "pygments_lexer": "ipython3",
   "version": "3.7.2"
  }
 },
 "nbformat": 4,
 "nbformat_minor": 2
}
